{
 "cells": [
  {
   "cell_type": "markdown",
   "source": [
    "# Создание таблиц с необходимыми данными"
   ],
   "metadata": {
    "collapsed": false
   }
  },
  {
   "cell_type": "markdown",
   "source": [
    "## Импорт библиотеки pandas"
   ],
   "metadata": {
    "collapsed": false,
    "pycharm": {
     "name": "#%% md\n"
    }
   }
  },
  {
   "cell_type": "code",
   "execution_count": 229,
   "outputs": [],
   "source": [
    "import pandas as pd\n",
    "pd.set_option('display.max_columns', None)"
   ],
   "metadata": {
    "collapsed": false,
    "pycharm": {
     "name": "#%%\n"
    }
   }
  },
  {
   "cell_type": "markdown",
   "source": [
    "## Загрузка датасета и установка года данных для обработки"
   ],
   "metadata": {
    "collapsed": false,
    "pycharm": {
     "name": "#%% md\n"
    }
   }
  },
  {
   "cell_type": "markdown",
   "source": [
    "Компиляция данных так устроена, что необходимо указывать год сбора данных. После этого будут получены таблицы за конкретный год. Если сгенерировать таблицы за все 3 года и запустить программу еще раз, то создадутся таблицы со всеми данными вместе.\n",
    "Так было сделано, чтобы проводить сбор и просмотр данных раздельно за каждый год так, как позволял функционал jupyter notebook."
   ],
   "metadata": {
    "collapsed": false
   }
  },
  {
   "cell_type": "code",
   "execution_count": 230,
   "outputs": [],
   "source": [
    "year = 2017\n",
    "df = pd.read_stata(f'InitialData/data{year}.dta', convert_categoricals=False).fillna(-1)\n",
    "initial_count = df.count()['caseno']"
   ],
   "metadata": {
    "collapsed": false,
    "pycharm": {
     "name": "#%%\n"
    }
   }
  },
  {
   "cell_type": "markdown",
   "source": [
    "## Импорт собственных часто используемых функций и создание групп вопросов"
   ],
   "metadata": {
    "collapsed": false,
    "pycharm": {
     "name": "#%% md\n"
    }
   }
  },
  {
   "cell_type": "code",
   "execution_count": 231,
   "outputs": [],
   "source": [
    "from utils import reg, rename, calc_groups, lgbt, women, family, parents, children, marriage\n",
    "family_group, marriage_group, women_group, children_group, parents_group, lgbt_group, gender, age = calc_groups(year)"
   ],
   "metadata": {
    "collapsed": false,
    "pycharm": {
     "name": "#%%\n"
    }
   }
  },
  {
   "cell_type": "markdown",
   "source": [
    "### Выбор данных 2017 года из датасета для проверки репрезентативности выборки"
   ],
   "metadata": {
    "collapsed": false
   }
  },
  {
   "cell_type": "code",
   "execution_count": 232,
   "outputs": [],
   "source": [
    "if year == 2017:\n",
    "    init_data_of_age_and_sex = df[(df['age'] > 0) & (df[gender[0]] > 0)]"
   ],
   "metadata": {
    "collapsed": false,
    "pycharm": {
     "name": "#%%\n"
    }
   }
  },
  {
   "cell_type": "markdown",
   "source": [
    "## Оставляем только строки с валидными, интересующими нас значениями"
   ],
   "metadata": {
    "collapsed": false
   }
  },
  {
   "cell_type": "code",
   "execution_count": 233,
   "outputs": [],
   "source": [
    "if year == 2017:\n",
    "    df = df[(df['v32'] >= 0)\n",
    "            & (df['v2'] >= 0)\n",
    "            & (df['v225'] >= 0)\n",
    "            & (df['v71'] >= 0)\n",
    "            & (df['v155'] >= 0)\n",
    "            & (df['v72'] >= 0)\n",
    "            & (df['age_r3'] > 0)\n",
    "            & (df['v74'] >= 0)\n",
    "            & (df['v75'] >= 0)\n",
    "            & (df['v83'] >= 0)\n",
    "            & (df['v69'] >= 0)\n",
    "            & (df['v154'] >= 0)\n",
    "            & (df['v84'] >= 0)\n",
    "            & (df['v82'] >= 0)\n",
    "            & (df['v65'] >= 0)\n",
    "            & (df['v153'] >= 0)]\n",
    "if year == 2008:\n",
    "    df = df[(df['v2'] >= 0)\n",
    "            & (df['v302'] >= 0)\n",
    "            & (df['v251'] >= 0)\n",
    "            & (df['v136'] >= 0)\n",
    "            & (df['v150'] >= 0)\n",
    "            & (df['v242'] >= 0)\n",
    "            & (df['v159'] >= 0)\n",
    "            & (df['v160'] >= 0)\n",
    "            & (df['v161'] >= 0)\n",
    "            & (df['v145'] >= 0)\n",
    "            & (df['v156'] >= 0)\n",
    "            & (df['v241'] >= 0)\n",
    "            & (df['v167'] >= 0)\n",
    "            & (df['v240'] >= 0)\n",
    "            & (df['v154'] >= 0)]\n",
    "if year == 1999:\n",
    "    df = df[(df['v2'] >= 0)\n",
    "            & (df['v242'] >= 0)\n",
    "            & (df['v150'] >= 0)\n",
    "            & (df['v133'] >= 0)\n",
    "            & (df['v99'] >= 0)\n",
    "            & (df['v156'] >= 0)\n",
    "            & (df['v154'] >= 0)\n",
    "            & (df['v233'] >= 0)\n",
    "            & (df['v144'] >= 0)\n",
    "            & (df['v162'] >= 0)\n",
    "            & (df['v232'] >= 0)\n",
    "            & (df['v291'] >= 0)]\n",
    "\n",
    "# Quantity of filtrated values\n",
    "filtrated_count = initial_count - df.count()['caseno']"
   ],
   "metadata": {
    "collapsed": false,
    "pycharm": {
     "name": "#%%\n"
    }
   }
  },
  {
   "cell_type": "markdown",
   "source": [
    "## Оставляем только интересующие нас колонки"
   ],
   "metadata": {
    "collapsed": false
   }
  },
  {
   "cell_type": "code",
   "execution_count": 234,
   "outputs": [],
   "source": [
    "df = df[\n",
    "    ['country'] + gender + family_group + marriage_group + women_group + children_group + parents_group + lgbt_group + age]"
   ],
   "metadata": {
    "collapsed": false,
    "pycharm": {
     "name": "#%%\n"
    }
   }
  },
  {
   "cell_type": "markdown",
   "source": [
    "## Создание индексов"
   ],
   "metadata": {
    "collapsed": false
   }
  },
  {
   "cell_type": "code",
   "execution_count": 235,
   "outputs": [],
   "source": [
    "df['region'] = df.country.apply(reg)\n",
    "df['name'] = df['country'].apply(rename)"
   ],
   "metadata": {
    "collapsed": false,
    "pycharm": {
     "name": "#%%\n"
    }
   }
  },
  {
   "cell_type": "code",
   "execution_count": 236,
   "outputs": [],
   "source": [
    "df['family'] = df[family_group].apply(family, axis=1, args=[year])\n",
    "df['marriage'] = df[marriage_group].apply(marriage, axis=1, args=[year])\n",
    "df['women'] = df[women_group].apply(women, axis=1, args=[year])\n",
    "df['children'] = df[children_group].apply(children, axis=1, args=[year])\n",
    "df['parents'] = df[parents_group].apply(parents, axis=1, args=[year])\n",
    "df['lgbt'] = df[lgbt_group].apply(lgbt, axis=1, args=[year])"
   ],
   "metadata": {
    "collapsed": false,
    "pycharm": {
     "name": "#%%\n"
    }
   }
  },
  {
   "cell_type": "code",
   "execution_count": 237,
   "outputs": [],
   "source": [
    "df['nsc'] = (df.marriage + df.women + df.children + df.parents + df.lgbt) / 5"
   ],
   "metadata": {
    "collapsed": false,
    "pycharm": {
     "name": "#%%\n"
    }
   }
  },
  {
   "cell_type": "markdown",
   "source": [
    "## Создание структурированных таблиц с посчитанными данными по годам"
   ],
   "metadata": {
    "collapsed": false
   }
  },
  {
   "cell_type": "code",
   "execution_count": 238,
   "outputs": [],
   "source": [
    "from scipy.stats import variation\n",
    "\n",
    "# Calculation of each stat in dataset depending on parameters\n",
    "def calc_stat(data, categ, statistic, idx):\n",
    "    cat = df.country if categ is by_country else df.region\n",
    "    match idx:\n",
    "        case 'median':\n",
    "            return df[cat == data][statistic].median()\n",
    "        case 'kurtosis':\n",
    "            return df[cat == data][statistic].skew()\n",
    "        case 'skew':\n",
    "            return df[cat == data][statistic].kurt()\n",
    "        case 'variation':\n",
    "            return variation(df[cat == data][statistic])"
   ],
   "metadata": {
    "collapsed": false,
    "pycharm": {
     "name": "#%%\n"
    }
   }
  },
  {
   "cell_type": "code",
   "execution_count": 239,
   "outputs": [
    {
     "name": "stderr",
     "output_type": "stream",
     "text": [
      "C:\\Users\\Святослав\\AppData\\Local\\Temp\\ipykernel_13892\\229677063.py:18: SettingWithCopyWarning: \n",
      "A value is trying to be set on a copy of a slice from a DataFrame.\n",
      "Try using .loc[row_indexer,col_indexer] = value instead\n",
      "\n",
      "See the caveats in the documentation: https://pandas.pydata.org/pandas-docs/stable/user_guide/indexing.html#returning-a-view-versus-a-copy\n",
      "  by_people['Year'] = year\n",
      "C:\\Users\\Святослав\\AppData\\Local\\Temp\\ipykernel_13892\\229677063.py:30: SettingWithCopyWarning: \n",
      "A value is trying to be set on a copy of a slice from a DataFrame\n",
      "\n",
      "See the caveats in the documentation: https://pandas.pydata.org/pandas-docs/stable/user_guide/indexing.html#returning-a-view-versus-a-copy\n",
      "  by_people.rename(columns={gender[0]: 'gender'}, inplace=True)\n"
     ]
    }
   ],
   "source": [
    "# Creation of datasets\n",
    "basic_fields = ['nsc', 'lgbt', 'family', 'marriage', 'women', 'children', 'parents']\n",
    "by_country = df.groupby('country')[\n",
    "    basic_fields + ['region', 'name']].describe(\n",
    "    include='all').dropna(axis=1)\n",
    "by_region = df.groupby('region')[basic_fields].describe(\n",
    "    include='all').dropna(axis=1)\n",
    "by_people = df[\n",
    "    basic_fields + ['region', 'country', 'name'] + gender]\n",
    "\n",
    "# Creation of specific naming\n",
    "by_country.columns = by_country.columns.map('_'.join)\n",
    "by_region.columns = by_region.columns.map('_'.join)\n",
    "\n",
    "# Specifying year\n",
    "by_country['Year'] = year\n",
    "by_region['Year'] = year\n",
    "by_people['Year'] = year\n",
    "\n",
    "# Cosmetic changes\n",
    "by_country.drop(by_country.filter(regex='count').columns, axis=1, inplace=True)\n",
    "by_country.drop('region_unique', axis=1, inplace=True)\n",
    "by_country.drop('name_unique', axis=1, inplace=True)\n",
    "by_country.drop('name_freq', axis=1, inplace=True)\n",
    "by_country.rename(columns={'region_top': 'region'}, inplace=True)\n",
    "by_country.rename(columns={'name_top': 'name'}, inplace=True)\n",
    "by_country.rename(columns={'region_freq': 'num'}, inplace=True)\n",
    "by_region['num'] = by_region['nsc_count']\n",
    "by_region.drop(by_region.filter(regex='count').columns, axis=1, inplace=True)\n",
    "by_people.rename(columns={gender[0]: 'gender'}, inplace=True)\n",
    "\n",
    "# Calculating statistics\n",
    "for category in [by_country, by_region]:\n",
    "    category.reset_index(inplace=True)\n",
    "    sub_cat = by_country.country if category is by_country else by_region.region\n",
    "    for stat in ('median', 'kurtosis', 'skew', 'variation'):\n",
    "        for index in ['nsc', 'lgbt', 'family', 'marriage', 'women', 'children', 'parents']:\n",
    "            category[f'{index}_{stat}'] = sub_cat.apply(calc_stat, args=[category, stat, index])\n",
    "    category = category.reindex(sorted(category.columns), axis=1)\n",
    "\n",
    "# Saving data\n",
    "by_country.to_csv(f'GeneratedData/ByCountries-{year}.csv', index=False)\n",
    "by_region.to_csv(f'GeneratedData/ByRegions-{year}.csv', index=True)\n",
    "by_people.to_csv(f'GeneratedData/ByPeople-{year}.csv', index=True)"
   ],
   "metadata": {
    "collapsed": false,
    "pycharm": {
     "name": "#%%\n"
    }
   }
  },
  {
   "cell_type": "code",
   "execution_count": 240,
   "outputs": [],
   "source": [
    "df.to_csv(f'GeneratedData/CompleteDataset-{year}.csv', index=True)"
   ],
   "metadata": {
    "collapsed": false,
    "pycharm": {
     "name": "#%%\n"
    }
   }
  },
  {
   "cell_type": "code",
   "execution_count": 241,
   "outputs": [],
   "source": [
    "if year == 2017:\n",
    "    init_data_of_age_and_sex.to_csv(f'GeneratedData/InitAgeSex-{year}.csv', index=True)"
   ],
   "metadata": {
    "collapsed": false,
    "pycharm": {
     "name": "#%%\n"
    }
   }
  },
  {
   "cell_type": "markdown",
   "source": [
    "## Компиляция данных вне зависимости от года"
   ],
   "metadata": {
    "collapsed": false
   }
  },
  {
   "cell_type": "code",
   "execution_count": 242,
   "outputs": [],
   "source": [
    "for name in ('ByCountries', 'ByPeople', 'ByRegions'):\n",
    "    data_1999 = pd.read_csv(f'GeneratedData/{name}-1999.csv')\n",
    "    data_2008 = pd.read_csv(f'GeneratedData/{name}-2008.csv')\n",
    "    data_2017 = pd.read_csv(f'GeneratedData/{name}-2017.csv')\n",
    "    data_final = pd.concat([data_1999, data_2008, data_2017]).reset_index(drop=True)\n",
    "    if name in ('ByPeople', 'ByRegions'):\n",
    "        data_final.drop(data_final.columns[0], axis=1, inplace=True)\n",
    "    data_final.to_csv(f'GeneratedData/{name}-all.csv', index=True)"
   ],
   "metadata": {
    "collapsed": false,
    "pycharm": {
     "name": "#%%\n"
    }
   }
  }
 ],
 "metadata": {
  "kernelspec": {
   "display_name": "Python 3 (ipykernel)",
   "language": "python",
   "name": "python3"
  },
  "language_info": {
   "codemirror_mode": {
    "name": "ipython",
    "version": 3
   },
   "file_extension": ".py",
   "mimetype": "text/x-python",
   "name": "python",
   "nbconvert_exporter": "python",
   "pygments_lexer": "ipython3",
   "version": "3.10.1"
  }
 },
 "nbformat": 4,
 "nbformat_minor": 5
}